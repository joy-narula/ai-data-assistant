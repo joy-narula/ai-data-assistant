{
 "cells": [
  {
   "cell_type": "code",
   "execution_count": 7,
   "metadata": {},
   "outputs": [
    {
     "name": "stderr",
     "output_type": "stream",
     "text": [
      "[nltk_data] Downloading package punkt_tab to /Users/river/nltk_data...\n",
      "[nltk_data]   Package punkt_tab is already up-to-date!\n",
      "[nltk_data] Downloading package punkt to /Users/river/nltk_data...\n",
      "[nltk_data]   Package punkt is already up-to-date!\n",
      "[nltk_data] Downloading package averaged_perceptron_tagger_eng to\n",
      "[nltk_data]     /Users/river/nltk_data...\n",
      "[nltk_data]   Unzipping taggers/averaged_perceptron_tagger_eng.zip.\n"
     ]
    },
    {
     "data": {
      "text/plain": [
       "2"
      ]
     },
     "execution_count": 7,
     "metadata": {},
     "output_type": "execute_result"
    }
   ],
   "source": [
    "from langchain.document_loaders import DirectoryLoader\n",
    "import nltk\n",
    "\n",
    "directory = 'data'\n",
    "\n",
    "nltk.download('punkt_tab')\n",
    "nltk.download('punkt')\n",
    "nltk.download('averaged_perceptron_tagger_eng')\n",
    "\n",
    "def load_docs(directory):\n",
    "    loader = DirectoryLoader(directory)\n",
    "    documents = loader.load()\n",
    "    return documents\n",
    "\n",
    "documents = load_docs(directory)\n",
    "len(documents)"
   ]
  },
  {
   "cell_type": "code",
   "execution_count": 8,
   "metadata": {},
   "outputs": [
    {
     "name": "stdout",
     "output_type": "stream",
     "text": [
      "8\n"
     ]
    }
   ],
   "source": [
    "from langchain.text_splitter import RecursiveCharacterTextSplitter\n",
    "\n",
    "def split_docs(documents, chunk_size = 500, chunk_overlap=20):\n",
    "    text_splitter = RecursiveCharacterTextSplitter(chunk_size=chunk_size, chunk_overlap=chunk_overlap)\n",
    "    docs = text_splitter.split_documents(documents)\n",
    "    return docs\n",
    "\n",
    "docs = split_docs(documents)\n",
    "print(len(docs))\n"
   ]
  },
  {
   "cell_type": "code",
   "execution_count": 9,
   "metadata": {},
   "outputs": [
    {
     "name": "stderr",
     "output_type": "stream",
     "text": [
      "/var/folders/f1/d0bfppq53n94krc3gnj_39tr0000gn/T/ipykernel_7729/1480077333.py:3: LangChainDeprecationWarning: The class `HuggingFaceEmbeddings` was deprecated in LangChain 0.2.2 and will be removed in 1.0. An updated version of the class exists in the :class:`~langchain-huggingface package and should be used instead. To use it run `pip install -U :class:`~langchain-huggingface` and import as `from :class:`~langchain_huggingface import HuggingFaceEmbeddings``.\n",
      "  embeddings = SentenceTransformerEmbeddings(model_name=\"all-MiniLM-L6-v2\")\n",
      "2024-12-06 15:08:52.098065: I tensorflow/core/platform/cpu_feature_guard.cc:210] This TensorFlow binary is optimized to use available CPU instructions in performance-critical operations.\n",
      "To enable the following instructions: AVX2 FMA, in other operations, rebuild TensorFlow with the appropriate compiler flags.\n"
     ]
    }
   ],
   "source": [
    "from langchain.embeddings import SentenceTransformerEmbeddings\n",
    "\n",
    "embeddings = SentenceTransformerEmbeddings(model_name=\"all-MiniLM-L6-v2\")\n"
   ]
  },
  {
   "cell_type": "code",
   "execution_count": 21,
   "metadata": {},
   "outputs": [],
   "source": [
    "import os\n",
    "from dotenv import load_dotenv\n",
    "from pinecone import Pinecone, ServerlessSpec\n",
    "\n",
    "\n",
    "load_dotenv()\n",
    "pinecone_key = os.getenv(\"PINECONE_API_KEY\")\n",
    "\n",
    "index_name = \"ai-assistant\"\n",
    "\n",
    "pc = Pinecone(pinecone_key)\n",
    "\n",
    "if index_name not in pc.list_indexes().names():\n",
    "    pc.create_index(\n",
    "        name=index_name,\n",
    "        dimension=384,  # Replace with your embedding model's dimension\n",
    "        metric=\"cosine\",  # Metric can be 'cosine', 'dotproduct', or 'euclidean'\n",
    "        spec=ServerlessSpec(cloud=\"aws\", region=\"us-east-1\")  # Replace region with your preferred one\n",
    "    )\n",
    "\n"
   ]
  },
  {
   "cell_type": "code",
   "execution_count": 22,
   "metadata": {},
   "outputs": [],
   "source": [
    "from langchain.vectorstores import Pinecone\n",
    "index = Pinecone.from_documents(documents, embeddings, index_name=index_name)"
   ]
  },
  {
   "cell_type": "code",
   "execution_count": 23,
   "metadata": {},
   "outputs": [],
   "source": [
    "def get_similar_docs(query, k=2, score=False):\n",
    "    if score:\n",
    "        similar_docs = index.similarity_search_with_score(query, k=k)\n",
    "    else:\n",
    "        similar_docs = index.similarity_search(query, k=k)\n",
    "    \n",
    "    return similar_docs"
   ]
  },
  {
   "cell_type": "code",
   "execution_count": 24,
   "metadata": {},
   "outputs": [
    {
     "name": "stdout",
     "output_type": "stream",
     "text": [
      "[Document(metadata={'source': 'data/twitter_data.pdf'}, page_content='Twitter was founded in 2006 and was listed on the stock exchange in 2013. Since the founding of Twitter, 2022 has been an event to remember Twitter. As Elon Musk took over Twitter, it will be delisted from the New York Exchange. As 2022 was so eventful for Twitter, analyze the complete timeline of Twitter in the Stock Market from 2013 to 2022.\\n\\nTwitter is one of the popular social media applications where people share what they feel in a limited number of words. Twitter is popular but not in the stock market.\\n\\nThe dataset contains data about:\\n\\nDate\\n\\nThe opening Price of the day\\n\\nThe highest price of the day\\n\\nThe lowest price of the day\\n\\nThe closing price of the day\\n\\nThe adjusted closing price of the day\\n\\nThe total number of shares traded in the day (volume)'), Document(metadata={'source': 'data/elon.txt'}, page_content=\"Elon Musk is a renowned entrepreneur and business magnate known for his involvement in various high-profile technology and energy ventures. He was born on June 28, 1971, in Pretoria, South Africa. Musk is the CEO and lead designer of SpaceX, CEO and product architect of Tesla, Inc., CEO of Neuralink, and founder of The Boring Company. He has also been involved in ventures such as SolarCity, OpenAI, and Zip2.\\n\\nHere is an overview of some of Elon Musk's notable ventures:\\n\\nZip2 Corporation Musk's first significant venture, co-founded in 1995, was Zip2, a city guide software for newspapers. Compaq acquired Zip2 in 1999 for nearly $300 million.\\n\\nPayPalMusk co-founded X.com, an online payment company, in 1999. X.com later merged with Confinity, and the combined entity became known as PayPal. eBay acquired PayPal in 2002 for $1.5 billion.\\n\\nSpaceX (Space Exploration Technologies Corp.) Founded in 2002, SpaceX aims to reduce space transportation costs and make space travel more accessible. The company has achieved significant milestones, such as the development of the Falcon and Starship rockets and the Dragon spacecraft. SpaceX has played a pivotal role in commercial space exploration.\\n\\nTesla, Inc. Elon Musk joined Tesla Motors (now Tesla, Inc.) in 2004, leading the development of electric vehicles. Tesla has become a major player in the automotive industry, producing electric cars, energy storage solutions, and solar products.\\n\\nSolarCity Musk was involved in the founding of SolarCity, a solar energy services company, in 2006. Tesla later acquired SolarCity in 2016.\\n\\nNeuralink Musk founded Neuralink in 2016, a company focused on developing brain–computer interface technologies. The goal is to enable direct communication between the human brain and computers.\\n\\nThe Boring Company Established in 2016, this infrastructure company aims to reduce traffic congestion through the construction of underground transportation tunnels. The Boring Company has proposed and undertaken various tunnel projects.\\n\\nElon Musk is known for his ambitious goals, innovative thinking, and willingness to take on complex challenges. His work has had a profound impact on the automotive, aerospace, and renewable energy industries. Musk is also known for his outspoken presence on social media, where he shares updates on his companies, thoughts on technology and the future, and engages with the public. However, his communication style has sometimes been controversial and has drawn both admiration and criticism.\")]\n"
     ]
    }
   ],
   "source": [
    "query = \"Who took over Twitter\"\n",
    "similar_docs = get_similar_docs(query)\n",
    "print(similar_docs)"
   ]
  },
  {
   "cell_type": "code",
   "execution_count": null,
   "metadata": {},
   "outputs": [],
   "source": []
  }
 ],
 "metadata": {
  "kernelspec": {
   "display_name": "Python 3",
   "language": "python",
   "name": "python3"
  },
  "language_info": {
   "codemirror_mode": {
    "name": "ipython",
    "version": 3
   },
   "file_extension": ".py",
   "mimetype": "text/x-python",
   "name": "python",
   "nbconvert_exporter": "python",
   "pygments_lexer": "ipython3",
   "version": "3.10.6"
  }
 },
 "nbformat": 4,
 "nbformat_minor": 2
}
